{
 "cells": [
  {
   "cell_type": "markdown",
   "id": "10bd2b6c",
   "metadata": {},
   "source": [
    "# DATASCIENCE INTERNSHIP\n",
    "\n",
    "##                           BHARAT INTERN\n",
    "\n",
    "###        TASK 1 : STOCK PRICE PREDICTION (GOOGLE) \n",
    "####                          by Pratham Priyanshu Mohanty \n",
    "\n",
    "### OBJECTIVE :-A MODEL which predicts the stock price of a company ,here Google using LSTM.\n",
    "\n",
    "\n",
    "\n",
    "### INTRODUCTION:-\n",
    " \n",
    "  This dataset contains historical data of Google's stock prices and related attributes. It consists of 14       columns and a smaller subset of 1257 rows. Each column represents a specific attribute, and each row contains   the corresponding values for that attribute.\n",
    "\n",
    "  The columns in the dataset are as follows:\n",
    "\n",
    "  1)Symbol: The name of the company, which is GOOG in this case.\n",
    "  \n",
    "  2)Date: The year and date of the stock data.\n",
    "  \n",
    "  3)Close: The closing price of Google's stock on a particular day.\n",
    "  \n",
    "  4)High: The highest value reached by Google's stock on the given day.\n",
    "  \n",
    "  5)Low: The lowest value reached by Google's stock on the given day.\n",
    "  \n",
    "  6)Open: The opening value of Google's stock on the given day.\n",
    "  \n",
    "  7)Volume: The trading volume of Google's stock on the given day, i.e., the number of shares traded.\n",
    "  \n",
    "  8)adjClose: The adjusted closing price of Google's stock, considering factors such as dividends and stock         splits.\n",
    "  \n",
    "  9)adjHigh: The adjusted highest value reached by Google's stock on the given day.\n",
    "  \n",
    " 10)adjLow: The adjusted lowest value reached by Google's stock on the given day.\n",
    " \n",
    " 11)adjOpen: The adjusted opening value of Google's stock on the given day.\n",
    " \n",
    " 12)adjVolume: The adjusted trading volume of Google's stock on the given day, accounting for factors such as      stock splits.\n",
    " \n",
    " 13)divCash: The amount of cash dividend paid out to shareholders on the given day.\n",
    " \n",
    " 14)splitFactor: The split factor, if any, applied to Google's stock on the given day. A split factor of 1        indicates no split.\n",
    " \n",
    "\n",
    "### THE DATASET IS TAKEN FROM KAGGLE\n",
    "                https://www.kaggle.com/datasets/varpit94/google-stock-data\n",
    "                  \n",
    "## STEP 1: Problem understanding by looking at the objective we need to achieve\n",
    "\n",
    "Here in this case study and dataset taken from kaggle, we need to complete the analysis of what are the stock price predictions of the Google in the next years as per the current scenerios. \n",
    "\n",
    "\n",
    "\n"
   ]
  },
  {
   "cell_type": "markdown",
   "id": "fd5a563e",
   "metadata": {},
   "source": [
    "## STEP 2: Loading the dataset and importing various libraries\n"
   ]
  },
  {
   "cell_type": "code",
   "execution_count": 75,
   "id": "81cf4d45",
   "metadata": {},
   "outputs": [
    {
     "data": {
      "text/html": [
       "<div>\n",
       "<style scoped>\n",
       "    .dataframe tbody tr th:only-of-type {\n",
       "        vertical-align: middle;\n",
       "    }\n",
       "\n",
       "    .dataframe tbody tr th {\n",
       "        vertical-align: top;\n",
       "    }\n",
       "\n",
       "    .dataframe thead th {\n",
       "        text-align: right;\n",
       "    }\n",
       "</style>\n",
       "<table border=\"1\" class=\"dataframe\">\n",
       "  <thead>\n",
       "    <tr style=\"text-align: right;\">\n",
       "      <th></th>\n",
       "      <th>symbol</th>\n",
       "      <th>date</th>\n",
       "      <th>close</th>\n",
       "      <th>high</th>\n",
       "      <th>low</th>\n",
       "      <th>open</th>\n",
       "      <th>volume</th>\n",
       "      <th>adjClose</th>\n",
       "      <th>adjHigh</th>\n",
       "      <th>adjLow</th>\n",
       "      <th>adjOpen</th>\n",
       "      <th>adjVolume</th>\n",
       "      <th>divCash</th>\n",
       "      <th>splitFactor</th>\n",
       "    </tr>\n",
       "  </thead>\n",
       "  <tbody>\n",
       "    <tr>\n",
       "      <th>0</th>\n",
       "      <td>GOOG</td>\n",
       "      <td>2016-06-14 00:00:00+00:00</td>\n",
       "      <td>718.27</td>\n",
       "      <td>722.47</td>\n",
       "      <td>713.1200</td>\n",
       "      <td>716.48</td>\n",
       "      <td>1306065</td>\n",
       "      <td>718.27</td>\n",
       "      <td>722.47</td>\n",
       "      <td>713.1200</td>\n",
       "      <td>716.48</td>\n",
       "      <td>1306065</td>\n",
       "      <td>0.0</td>\n",
       "      <td>1.0</td>\n",
       "    </tr>\n",
       "    <tr>\n",
       "      <th>1</th>\n",
       "      <td>GOOG</td>\n",
       "      <td>2016-06-15 00:00:00+00:00</td>\n",
       "      <td>718.92</td>\n",
       "      <td>722.98</td>\n",
       "      <td>717.3100</td>\n",
       "      <td>719.00</td>\n",
       "      <td>1214517</td>\n",
       "      <td>718.92</td>\n",
       "      <td>722.98</td>\n",
       "      <td>717.3100</td>\n",
       "      <td>719.00</td>\n",
       "      <td>1214517</td>\n",
       "      <td>0.0</td>\n",
       "      <td>1.0</td>\n",
       "    </tr>\n",
       "    <tr>\n",
       "      <th>2</th>\n",
       "      <td>GOOG</td>\n",
       "      <td>2016-06-16 00:00:00+00:00</td>\n",
       "      <td>710.36</td>\n",
       "      <td>716.65</td>\n",
       "      <td>703.2600</td>\n",
       "      <td>714.91</td>\n",
       "      <td>1982471</td>\n",
       "      <td>710.36</td>\n",
       "      <td>716.65</td>\n",
       "      <td>703.2600</td>\n",
       "      <td>714.91</td>\n",
       "      <td>1982471</td>\n",
       "      <td>0.0</td>\n",
       "      <td>1.0</td>\n",
       "    </tr>\n",
       "    <tr>\n",
       "      <th>3</th>\n",
       "      <td>GOOG</td>\n",
       "      <td>2016-06-17 00:00:00+00:00</td>\n",
       "      <td>691.72</td>\n",
       "      <td>708.82</td>\n",
       "      <td>688.4515</td>\n",
       "      <td>708.65</td>\n",
       "      <td>3402357</td>\n",
       "      <td>691.72</td>\n",
       "      <td>708.82</td>\n",
       "      <td>688.4515</td>\n",
       "      <td>708.65</td>\n",
       "      <td>3402357</td>\n",
       "      <td>0.0</td>\n",
       "      <td>1.0</td>\n",
       "    </tr>\n",
       "    <tr>\n",
       "      <th>4</th>\n",
       "      <td>GOOG</td>\n",
       "      <td>2016-06-20 00:00:00+00:00</td>\n",
       "      <td>693.71</td>\n",
       "      <td>702.48</td>\n",
       "      <td>693.4100</td>\n",
       "      <td>698.77</td>\n",
       "      <td>2082538</td>\n",
       "      <td>693.71</td>\n",
       "      <td>702.48</td>\n",
       "      <td>693.4100</td>\n",
       "      <td>698.77</td>\n",
       "      <td>2082538</td>\n",
       "      <td>0.0</td>\n",
       "      <td>1.0</td>\n",
       "    </tr>\n",
       "    <tr>\n",
       "      <th>5</th>\n",
       "      <td>GOOG</td>\n",
       "      <td>2016-06-21 00:00:00+00:00</td>\n",
       "      <td>695.94</td>\n",
       "      <td>702.77</td>\n",
       "      <td>692.0100</td>\n",
       "      <td>698.40</td>\n",
       "      <td>1465634</td>\n",
       "      <td>695.94</td>\n",
       "      <td>702.77</td>\n",
       "      <td>692.0100</td>\n",
       "      <td>698.40</td>\n",
       "      <td>1465634</td>\n",
       "      <td>0.0</td>\n",
       "      <td>1.0</td>\n",
       "    </tr>\n",
       "    <tr>\n",
       "      <th>6</th>\n",
       "      <td>GOOG</td>\n",
       "      <td>2016-06-22 00:00:00+00:00</td>\n",
       "      <td>697.46</td>\n",
       "      <td>700.86</td>\n",
       "      <td>693.0819</td>\n",
       "      <td>699.06</td>\n",
       "      <td>1184318</td>\n",
       "      <td>697.46</td>\n",
       "      <td>700.86</td>\n",
       "      <td>693.0819</td>\n",
       "      <td>699.06</td>\n",
       "      <td>1184318</td>\n",
       "      <td>0.0</td>\n",
       "      <td>1.0</td>\n",
       "    </tr>\n",
       "    <tr>\n",
       "      <th>7</th>\n",
       "      <td>GOOG</td>\n",
       "      <td>2016-06-23 00:00:00+00:00</td>\n",
       "      <td>701.87</td>\n",
       "      <td>701.95</td>\n",
       "      <td>687.0000</td>\n",
       "      <td>697.45</td>\n",
       "      <td>2171415</td>\n",
       "      <td>701.87</td>\n",
       "      <td>701.95</td>\n",
       "      <td>687.0000</td>\n",
       "      <td>697.45</td>\n",
       "      <td>2171415</td>\n",
       "      <td>0.0</td>\n",
       "      <td>1.0</td>\n",
       "    </tr>\n",
       "    <tr>\n",
       "      <th>8</th>\n",
       "      <td>GOOG</td>\n",
       "      <td>2016-06-24 00:00:00+00:00</td>\n",
       "      <td>675.22</td>\n",
       "      <td>689.40</td>\n",
       "      <td>673.4500</td>\n",
       "      <td>675.17</td>\n",
       "      <td>4449022</td>\n",
       "      <td>675.22</td>\n",
       "      <td>689.40</td>\n",
       "      <td>673.4500</td>\n",
       "      <td>675.17</td>\n",
       "      <td>4449022</td>\n",
       "      <td>0.0</td>\n",
       "      <td>1.0</td>\n",
       "    </tr>\n",
       "    <tr>\n",
       "      <th>9</th>\n",
       "      <td>GOOG</td>\n",
       "      <td>2016-06-27 00:00:00+00:00</td>\n",
       "      <td>668.26</td>\n",
       "      <td>672.30</td>\n",
       "      <td>663.2840</td>\n",
       "      <td>671.00</td>\n",
       "      <td>2641085</td>\n",
       "      <td>668.26</td>\n",
       "      <td>672.30</td>\n",
       "      <td>663.2840</td>\n",
       "      <td>671.00</td>\n",
       "      <td>2641085</td>\n",
       "      <td>0.0</td>\n",
       "      <td>1.0</td>\n",
       "    </tr>\n",
       "  </tbody>\n",
       "</table>\n",
       "</div>"
      ],
      "text/plain": [
       "  symbol                       date   close    high       low    open   \n",
       "0   GOOG  2016-06-14 00:00:00+00:00  718.27  722.47  713.1200  716.48  \\\n",
       "1   GOOG  2016-06-15 00:00:00+00:00  718.92  722.98  717.3100  719.00   \n",
       "2   GOOG  2016-06-16 00:00:00+00:00  710.36  716.65  703.2600  714.91   \n",
       "3   GOOG  2016-06-17 00:00:00+00:00  691.72  708.82  688.4515  708.65   \n",
       "4   GOOG  2016-06-20 00:00:00+00:00  693.71  702.48  693.4100  698.77   \n",
       "5   GOOG  2016-06-21 00:00:00+00:00  695.94  702.77  692.0100  698.40   \n",
       "6   GOOG  2016-06-22 00:00:00+00:00  697.46  700.86  693.0819  699.06   \n",
       "7   GOOG  2016-06-23 00:00:00+00:00  701.87  701.95  687.0000  697.45   \n",
       "8   GOOG  2016-06-24 00:00:00+00:00  675.22  689.40  673.4500  675.17   \n",
       "9   GOOG  2016-06-27 00:00:00+00:00  668.26  672.30  663.2840  671.00   \n",
       "\n",
       "    volume  adjClose  adjHigh    adjLow  adjOpen  adjVolume  divCash   \n",
       "0  1306065    718.27   722.47  713.1200   716.48    1306065      0.0  \\\n",
       "1  1214517    718.92   722.98  717.3100   719.00    1214517      0.0   \n",
       "2  1982471    710.36   716.65  703.2600   714.91    1982471      0.0   \n",
       "3  3402357    691.72   708.82  688.4515   708.65    3402357      0.0   \n",
       "4  2082538    693.71   702.48  693.4100   698.77    2082538      0.0   \n",
       "5  1465634    695.94   702.77  692.0100   698.40    1465634      0.0   \n",
       "6  1184318    697.46   700.86  693.0819   699.06    1184318      0.0   \n",
       "7  2171415    701.87   701.95  687.0000   697.45    2171415      0.0   \n",
       "8  4449022    675.22   689.40  673.4500   675.17    4449022      0.0   \n",
       "9  2641085    668.26   672.30  663.2840   671.00    2641085      0.0   \n",
       "\n",
       "   splitFactor  \n",
       "0          1.0  \n",
       "1          1.0  \n",
       "2          1.0  \n",
       "3          1.0  \n",
       "4          1.0  \n",
       "5          1.0  \n",
       "6          1.0  \n",
       "7          1.0  \n",
       "8          1.0  \n",
       "9          1.0  "
      ]
     },
     "execution_count": 75,
     "metadata": {},
     "output_type": "execute_result"
    }
   ],
   "source": [
    "#importing libraries to be used\n",
    "import numpy as np # for linear algebra\n",
    "import pandas as pd # data preprocessing\n",
    "import matplotlib.pyplot as plt # data visualization library\n",
    "import seaborn as sns # data visualization library\n",
    "%matplotlib inline\n",
    "import warnings\n",
    "warnings.filterwarnings('ignore') # ignore warnings \n",
    "\n",
    "from sklearn.preprocessing import MinMaxScaler # for normalization\n",
    "from keras.models import Sequential\n",
    "from keras.layers import Dense, Dropout, LSTM, Bidirectional\n",
    "df = pd.read_csv('/home/pratham2810/Documents/PROJECTS/Stock_Price_prediction_DS-ML/google_stock.csv') # data_importing\n",
    "df.head(10) # fetching first 10 rows of dataset"
   ]
  },
  {
   "cell_type": "markdown",
   "id": "254bc47b",
   "metadata": {},
   "source": [
    "## STEP-3: Getting the insights and informations about the data"
   ]
  },
  {
   "cell_type": "code",
   "execution_count": 76,
   "id": "544c0099",
   "metadata": {},
   "outputs": [
    {
     "name": "stdout",
     "output_type": "stream",
     "text": [
      "Shape of data: (1258, 14)\n"
     ]
    },
    {
     "data": {
      "text/html": [
       "<div>\n",
       "<style scoped>\n",
       "    .dataframe tbody tr th:only-of-type {\n",
       "        vertical-align: middle;\n",
       "    }\n",
       "\n",
       "    .dataframe tbody tr th {\n",
       "        vertical-align: top;\n",
       "    }\n",
       "\n",
       "    .dataframe thead th {\n",
       "        text-align: right;\n",
       "    }\n",
       "</style>\n",
       "<table border=\"1\" class=\"dataframe\">\n",
       "  <thead>\n",
       "    <tr style=\"text-align: right;\">\n",
       "      <th></th>\n",
       "      <th>close</th>\n",
       "      <th>high</th>\n",
       "      <th>low</th>\n",
       "      <th>open</th>\n",
       "      <th>volume</th>\n",
       "      <th>adjClose</th>\n",
       "      <th>adjHigh</th>\n",
       "      <th>adjLow</th>\n",
       "      <th>adjOpen</th>\n",
       "      <th>adjVolume</th>\n",
       "      <th>divCash</th>\n",
       "      <th>splitFactor</th>\n",
       "    </tr>\n",
       "  </thead>\n",
       "  <tbody>\n",
       "    <tr>\n",
       "      <th>count</th>\n",
       "      <td>1258.000000</td>\n",
       "      <td>1258.000000</td>\n",
       "      <td>1258.000000</td>\n",
       "      <td>1258.000000</td>\n",
       "      <td>1.258000e+03</td>\n",
       "      <td>1258.000000</td>\n",
       "      <td>1258.000000</td>\n",
       "      <td>1258.000000</td>\n",
       "      <td>1258.000000</td>\n",
       "      <td>1.258000e+03</td>\n",
       "      <td>1258.0</td>\n",
       "      <td>1258.0</td>\n",
       "    </tr>\n",
       "    <tr>\n",
       "      <th>mean</th>\n",
       "      <td>1216.317067</td>\n",
       "      <td>1227.430934</td>\n",
       "      <td>1204.176430</td>\n",
       "      <td>1215.260779</td>\n",
       "      <td>1.601590e+06</td>\n",
       "      <td>1216.317067</td>\n",
       "      <td>1227.430936</td>\n",
       "      <td>1204.176436</td>\n",
       "      <td>1215.260779</td>\n",
       "      <td>1.601590e+06</td>\n",
       "      <td>0.0</td>\n",
       "      <td>1.0</td>\n",
       "    </tr>\n",
       "    <tr>\n",
       "      <th>std</th>\n",
       "      <td>383.333358</td>\n",
       "      <td>387.570872</td>\n",
       "      <td>378.777094</td>\n",
       "      <td>382.446995</td>\n",
       "      <td>6.960172e+05</td>\n",
       "      <td>383.333358</td>\n",
       "      <td>387.570873</td>\n",
       "      <td>378.777099</td>\n",
       "      <td>382.446995</td>\n",
       "      <td>6.960172e+05</td>\n",
       "      <td>0.0</td>\n",
       "      <td>0.0</td>\n",
       "    </tr>\n",
       "    <tr>\n",
       "      <th>min</th>\n",
       "      <td>668.260000</td>\n",
       "      <td>672.300000</td>\n",
       "      <td>663.284000</td>\n",
       "      <td>671.000000</td>\n",
       "      <td>3.467530e+05</td>\n",
       "      <td>668.260000</td>\n",
       "      <td>672.300000</td>\n",
       "      <td>663.284000</td>\n",
       "      <td>671.000000</td>\n",
       "      <td>3.467530e+05</td>\n",
       "      <td>0.0</td>\n",
       "      <td>1.0</td>\n",
       "    </tr>\n",
       "    <tr>\n",
       "      <th>25%</th>\n",
       "      <td>960.802500</td>\n",
       "      <td>968.757500</td>\n",
       "      <td>952.182500</td>\n",
       "      <td>959.005000</td>\n",
       "      <td>1.173522e+06</td>\n",
       "      <td>960.802500</td>\n",
       "      <td>968.757500</td>\n",
       "      <td>952.182500</td>\n",
       "      <td>959.005000</td>\n",
       "      <td>1.173522e+06</td>\n",
       "      <td>0.0</td>\n",
       "      <td>1.0</td>\n",
       "    </tr>\n",
       "    <tr>\n",
       "      <th>50%</th>\n",
       "      <td>1132.460000</td>\n",
       "      <td>1143.935000</td>\n",
       "      <td>1117.915000</td>\n",
       "      <td>1131.150000</td>\n",
       "      <td>1.412588e+06</td>\n",
       "      <td>1132.460000</td>\n",
       "      <td>1143.935000</td>\n",
       "      <td>1117.915000</td>\n",
       "      <td>1131.150000</td>\n",
       "      <td>1.412588e+06</td>\n",
       "      <td>0.0</td>\n",
       "      <td>1.0</td>\n",
       "    </tr>\n",
       "    <tr>\n",
       "      <th>75%</th>\n",
       "      <td>1360.595000</td>\n",
       "      <td>1374.345000</td>\n",
       "      <td>1348.557500</td>\n",
       "      <td>1361.075000</td>\n",
       "      <td>1.812156e+06</td>\n",
       "      <td>1360.595000</td>\n",
       "      <td>1374.345000</td>\n",
       "      <td>1348.557500</td>\n",
       "      <td>1361.075000</td>\n",
       "      <td>1.812156e+06</td>\n",
       "      <td>0.0</td>\n",
       "      <td>1.0</td>\n",
       "    </tr>\n",
       "    <tr>\n",
       "      <th>max</th>\n",
       "      <td>2521.600000</td>\n",
       "      <td>2526.990000</td>\n",
       "      <td>2498.290000</td>\n",
       "      <td>2524.920000</td>\n",
       "      <td>6.207027e+06</td>\n",
       "      <td>2521.600000</td>\n",
       "      <td>2526.990000</td>\n",
       "      <td>2498.290000</td>\n",
       "      <td>2524.920000</td>\n",
       "      <td>6.207027e+06</td>\n",
       "      <td>0.0</td>\n",
       "      <td>1.0</td>\n",
       "    </tr>\n",
       "  </tbody>\n",
       "</table>\n",
       "</div>"
      ],
      "text/plain": [
       "             close         high          low         open        volume   \n",
       "count  1258.000000  1258.000000  1258.000000  1258.000000  1.258000e+03  \\\n",
       "mean   1216.317067  1227.430934  1204.176430  1215.260779  1.601590e+06   \n",
       "std     383.333358   387.570872   378.777094   382.446995  6.960172e+05   \n",
       "min     668.260000   672.300000   663.284000   671.000000  3.467530e+05   \n",
       "25%     960.802500   968.757500   952.182500   959.005000  1.173522e+06   \n",
       "50%    1132.460000  1143.935000  1117.915000  1131.150000  1.412588e+06   \n",
       "75%    1360.595000  1374.345000  1348.557500  1361.075000  1.812156e+06   \n",
       "max    2521.600000  2526.990000  2498.290000  2524.920000  6.207027e+06   \n",
       "\n",
       "          adjClose      adjHigh       adjLow      adjOpen     adjVolume   \n",
       "count  1258.000000  1258.000000  1258.000000  1258.000000  1.258000e+03  \\\n",
       "mean   1216.317067  1227.430936  1204.176436  1215.260779  1.601590e+06   \n",
       "std     383.333358   387.570873   378.777099   382.446995  6.960172e+05   \n",
       "min     668.260000   672.300000   663.284000   671.000000  3.467530e+05   \n",
       "25%     960.802500   968.757500   952.182500   959.005000  1.173522e+06   \n",
       "50%    1132.460000  1143.935000  1117.915000  1131.150000  1.412588e+06   \n",
       "75%    1360.595000  1374.345000  1348.557500  1361.075000  1.812156e+06   \n",
       "max    2521.600000  2526.990000  2498.290000  2524.920000  6.207027e+06   \n",
       "\n",
       "       divCash  splitFactor  \n",
       "count   1258.0       1258.0  \n",
       "mean       0.0          1.0  \n",
       "std        0.0          0.0  \n",
       "min        0.0          1.0  \n",
       "25%        0.0          1.0  \n",
       "50%        0.0          1.0  \n",
       "75%        0.0          1.0  \n",
       "max        0.0          1.0  "
      ]
     },
     "execution_count": 76,
     "metadata": {},
     "output_type": "execute_result"
    }
   ],
   "source": [
    "# shape of data\n",
    "print(\"Shape of data:\",df.shape)\n",
    "\n",
    "# statistical description of data\n",
    "df.describe()"
   ]
  },
  {
   "cell_type": "code",
   "execution_count": 77,
   "id": "5540a2bb",
   "metadata": {},
   "outputs": [
    {
     "name": "stdout",
     "output_type": "stream",
     "text": [
      "<class 'pandas.core.frame.DataFrame'>\n",
      "RangeIndex: 1258 entries, 0 to 1257\n",
      "Data columns (total 14 columns):\n",
      " #   Column       Non-Null Count  Dtype  \n",
      "---  ------       --------------  -----  \n",
      " 0   symbol       1258 non-null   object \n",
      " 1   date         1258 non-null   object \n",
      " 2   close        1258 non-null   float64\n",
      " 3   high         1258 non-null   float64\n",
      " 4   low          1258 non-null   float64\n",
      " 5   open         1258 non-null   float64\n",
      " 6   volume       1258 non-null   int64  \n",
      " 7   adjClose     1258 non-null   float64\n",
      " 8   adjHigh      1258 non-null   float64\n",
      " 9   adjLow       1258 non-null   float64\n",
      " 10  adjOpen      1258 non-null   float64\n",
      " 11  adjVolume    1258 non-null   int64  \n",
      " 12  divCash      1258 non-null   float64\n",
      " 13  splitFactor  1258 non-null   float64\n",
      "dtypes: float64(10), int64(2), object(2)\n",
      "memory usage: 137.7+ KB\n"
     ]
    }
   ],
   "source": [
    "# summary of data\n",
    "df.info()"
   ]
  },
  {
   "cell_type": "code",
   "execution_count": 78,
   "id": "561f37b3",
   "metadata": {},
   "outputs": [
    {
     "data": {
      "text/plain": [
       "symbol         0\n",
       "date           0\n",
       "close          0\n",
       "high           0\n",
       "low            0\n",
       "open           0\n",
       "volume         0\n",
       "adjClose       0\n",
       "adjHigh        0\n",
       "adjLow         0\n",
       "adjOpen        0\n",
       "adjVolume      0\n",
       "divCash        0\n",
       "splitFactor    0\n",
       "dtype: int64"
      ]
     },
     "execution_count": 78,
     "metadata": {},
     "output_type": "execute_result"
    }
   ],
   "source": [
    "# checking null values\n",
    "df.isnull().sum()"
   ]
  },
  {
   "cell_type": "markdown",
   "id": "29b7b60d",
   "metadata": {},
   "source": [
    "THERE are no null values of the dataset"
   ]
  },
  {
   "cell_type": "code",
   "execution_count": 80,
   "id": "aa5eb02c",
   "metadata": {},
   "outputs": [
    {
     "data": {
      "text/html": [
       "<div>\n",
       "<style scoped>\n",
       "    .dataframe tbody tr th:only-of-type {\n",
       "        vertical-align: middle;\n",
       "    }\n",
       "\n",
       "    .dataframe tbody tr th {\n",
       "        vertical-align: top;\n",
       "    }\n",
       "\n",
       "    .dataframe thead th {\n",
       "        text-align: right;\n",
       "    }\n",
       "</style>\n",
       "<table border=\"1\" class=\"dataframe\">\n",
       "  <thead>\n",
       "    <tr style=\"text-align: right;\">\n",
       "      <th></th>\n",
       "      <th>open</th>\n",
       "      <th>close</th>\n",
       "    </tr>\n",
       "    <tr>\n",
       "      <th>date</th>\n",
       "      <th></th>\n",
       "      <th></th>\n",
       "    </tr>\n",
       "  </thead>\n",
       "  <tbody>\n",
       "    <tr>\n",
       "      <th>2016-06-14</th>\n",
       "      <td>716.48</td>\n",
       "      <td>718.27</td>\n",
       "    </tr>\n",
       "    <tr>\n",
       "      <th>2016-06-15</th>\n",
       "      <td>719.00</td>\n",
       "      <td>718.92</td>\n",
       "    </tr>\n",
       "    <tr>\n",
       "      <th>2016-06-16</th>\n",
       "      <td>714.91</td>\n",
       "      <td>710.36</td>\n",
       "    </tr>\n",
       "    <tr>\n",
       "      <th>2016-06-17</th>\n",
       "      <td>708.65</td>\n",
       "      <td>691.72</td>\n",
       "    </tr>\n",
       "    <tr>\n",
       "      <th>2016-06-20</th>\n",
       "      <td>698.77</td>\n",
       "      <td>693.71</td>\n",
       "    </tr>\n",
       "    <tr>\n",
       "      <th>2016-06-21</th>\n",
       "      <td>698.40</td>\n",
       "      <td>695.94</td>\n",
       "    </tr>\n",
       "    <tr>\n",
       "      <th>2016-06-22</th>\n",
       "      <td>699.06</td>\n",
       "      <td>697.46</td>\n",
       "    </tr>\n",
       "    <tr>\n",
       "      <th>2016-06-23</th>\n",
       "      <td>697.45</td>\n",
       "      <td>701.87</td>\n",
       "    </tr>\n",
       "    <tr>\n",
       "      <th>2016-06-24</th>\n",
       "      <td>675.17</td>\n",
       "      <td>675.22</td>\n",
       "    </tr>\n",
       "    <tr>\n",
       "      <th>2016-06-27</th>\n",
       "      <td>671.00</td>\n",
       "      <td>668.26</td>\n",
       "    </tr>\n",
       "  </tbody>\n",
       "</table>\n",
       "</div>"
      ],
      "text/plain": [
       "              open   close\n",
       "date                      \n",
       "2016-06-14  716.48  718.27\n",
       "2016-06-15  719.00  718.92\n",
       "2016-06-16  714.91  710.36\n",
       "2016-06-17  708.65  691.72\n",
       "2016-06-20  698.77  693.71\n",
       "2016-06-21  698.40  695.94\n",
       "2016-06-22  699.06  697.46\n",
       "2016-06-23  697.45  701.87\n",
       "2016-06-24  675.17  675.22\n",
       "2016-06-27  671.00  668.26"
      ]
     },
     "execution_count": 80,
     "metadata": {},
     "output_type": "execute_result"
    }
   ],
   "source": [
    "df = df[['date','open','close']] # Extracting required columns\n",
    "df['date'] = pd.to_datetime(df['date'].apply(lambda x: x.split()[0])) # converting object dtype of date column to datetime dtype\n",
    "df.set_index('date',drop=True,inplace=True) # Setting date column as index\n",
    "df.head(10)"
   ]
  },
  {
   "cell_type": "code",
   "execution_count": 82,
   "id": "8bce82a4",
   "metadata": {},
   "outputs": [
    {
     "data": {
      "image/png": "[encoded data removed]",
      "text/plain": [
       "<Figure size 1440x504 with 2 Axes>"
      ]
     },
     "metadata": {
      "needs_background": "light"
     },
     "output_type": "display_data"
    }
   ],
   "source": [
    "# plotting open and closing price on date index\n",
    "fig, ax =plt.subplots(1,2,figsize=(20,7))\n",
    "ax[0].plot(df['open'],label='Open',color='green')\n",
    "ax[0].set_xlabel('Date',size=15)\n",
    "ax[0].set_ylabel('Price',size=15)\n",
    "ax[0].legend()\n",
    "\n",
    "ax[1].plot(df['close'],label='Close',color='red')\n",
    "ax[1].set_xlabel('Date',size=15)\n",
    "ax[1].set_ylabel('Price',size=15)\n",
    "ax[1].legend()\n",
    "\n",
    "fig.show()"
   ]
  },
  {
   "cell_type": "markdown",
   "id": "87f90e91",
   "metadata": {},
   "source": [
    "## STEP 4 : DATA PRE-PROCESSING"
   ]
  },
  {
   "cell_type": "code",
   "execution_count": 83,
   "id": "5c9ae53e",
   "metadata": {},
   "outputs": [
    {
     "data": {
      "text/html": [
       "<div>\n",
       "<style scoped>\n",
       "    .dataframe tbody tr th:only-of-type {\n",
       "        vertical-align: middle;\n",
       "    }\n",
       "\n",
       "    .dataframe tbody tr th {\n",
       "        vertical-align: top;\n",
       "    }\n",
       "\n",
       "    .dataframe thead th {\n",
       "        text-align: right;\n",
       "    }\n",
       "</style>\n",
       "<table border=\"1\" class=\"dataframe\">\n",
       "  <thead>\n",
       "    <tr style=\"text-align: right;\">\n",
       "      <th></th>\n",
       "      <th>open</th>\n",
       "      <th>close</th>\n",
       "    </tr>\n",
       "    <tr>\n",
       "      <th>date</th>\n",
       "      <th></th>\n",
       "      <th></th>\n",
       "    </tr>\n",
       "  </thead>\n",
       "  <tbody>\n",
       "    <tr>\n",
       "      <th>2016-06-14</th>\n",
       "      <td>0.024532</td>\n",
       "      <td>0.026984</td>\n",
       "    </tr>\n",
       "    <tr>\n",
       "      <th>2016-06-15</th>\n",
       "      <td>0.025891</td>\n",
       "      <td>0.027334</td>\n",
       "    </tr>\n",
       "    <tr>\n",
       "      <th>2016-06-16</th>\n",
       "      <td>0.023685</td>\n",
       "      <td>0.022716</td>\n",
       "    </tr>\n",
       "    <tr>\n",
       "      <th>2016-06-17</th>\n",
       "      <td>0.020308</td>\n",
       "      <td>0.012658</td>\n",
       "    </tr>\n",
       "    <tr>\n",
       "      <th>2016-06-20</th>\n",
       "      <td>0.014979</td>\n",
       "      <td>0.013732</td>\n",
       "    </tr>\n",
       "    <tr>\n",
       "      <th>2016-06-21</th>\n",
       "      <td>0.014779</td>\n",
       "      <td>0.014935</td>\n",
       "    </tr>\n",
       "    <tr>\n",
       "      <th>2016-06-22</th>\n",
       "      <td>0.015135</td>\n",
       "      <td>0.015755</td>\n",
       "    </tr>\n",
       "    <tr>\n",
       "      <th>2016-06-23</th>\n",
       "      <td>0.014267</td>\n",
       "      <td>0.018135</td>\n",
       "    </tr>\n",
       "    <tr>\n",
       "      <th>2016-06-24</th>\n",
       "      <td>0.002249</td>\n",
       "      <td>0.003755</td>\n",
       "    </tr>\n",
       "    <tr>\n",
       "      <th>2016-06-27</th>\n",
       "      <td>0.000000</td>\n",
       "      <td>0.000000</td>\n",
       "    </tr>\n",
       "  </tbody>\n",
       "</table>\n",
       "</div>"
      ],
      "text/plain": [
       "                open     close\n",
       "date                          \n",
       "2016-06-14  0.024532  0.026984\n",
       "2016-06-15  0.025891  0.027334\n",
       "2016-06-16  0.023685  0.022716\n",
       "2016-06-17  0.020308  0.012658\n",
       "2016-06-20  0.014979  0.013732\n",
       "2016-06-21  0.014779  0.014935\n",
       "2016-06-22  0.015135  0.015755\n",
       "2016-06-23  0.014267  0.018135\n",
       "2016-06-24  0.002249  0.003755\n",
       "2016-06-27  0.000000  0.000000"
      ]
     },
     "execution_count": 83,
     "metadata": {},
     "output_type": "execute_result"
    }
   ],
   "source": [
    "# normalizing all the values of all columns using MinMaxScaler\n",
    "MMS = MinMaxScaler()\n",
    "df[df.columns] = MMS.fit_transform(df)\n",
    "df.head(10)"
   ]
  },
  {
   "cell_type": "code",
   "execution_count": 86,
   "id": "8a4632fc",
   "metadata": {},
   "outputs": [
    {
     "data": {
      "text/plain": [
       "1006"
      ]
     },
     "execution_count": 86,
     "metadata": {},
     "output_type": "execute_result"
    }
   ],
   "source": [
    "# splitting the data into training and test set\n",
    "training_size = round(len(df) * 0.80) # Selecting 80 % for training and 20 % for testing\n",
    "training_size"
   ]
  },
  {
   "cell_type": "code",
   "execution_count": 87,
   "id": "d4318bfe",
   "metadata": {},
   "outputs": [
    {
     "data": {
      "text/plain": [
       "((1006, 2), (252, 2))"
      ]
     },
     "execution_count": 87,
     "metadata": {},
     "output_type": "execute_result"
    }
   ],
   "source": [
    "\n",
    "train_data = df[:training_size]\n",
    "test_data  = df[training_size:]\n",
    "\n",
    "train_data.shape, test_data.shape"
   ]
  },
  {
   "cell_type": "code",
   "execution_count": 88,
   "id": "00be9293",
   "metadata": {},
   "outputs": [
    {
     "data": {
      "text/plain": [
       "((956, 50, 2), (956, 2), (202, 50, 2), (202, 2))"
      ]
     },
     "execution_count": 88,
     "metadata": {},
     "output_type": "execute_result"
    }
   ],
   "source": [
    "# Function to create sequence of data for training and testing\n",
    "\n",
    "def create_sequence(dataset):\n",
    "  sequences = []\n",
    "  labels = []\n",
    "\n",
    "  start_idx = 0\n",
    "\n",
    "  for stop_idx in range(50,len(dataset)): # Selecting 50 rows at a time\n",
    "    sequences.append(dataset.iloc[start_idx:stop_idx])\n",
    "    labels.append(dataset.iloc[stop_idx])\n",
    "    start_idx += 1\n",
    "  return (np.array(sequences),np.array(labels))\n",
    "train_seq, train_label = create_sequence(train_data) \n",
    "test_seq, test_label = create_sequence(test_data)\n",
    "train_seq.shape, train_label.shape, test_seq.shape, test_label.shape"
   ]
  },
  {
   "cell_type": "markdown",
   "id": "088f4540",
   "metadata": {},
   "source": [
    "## STEP 4 : CREATING LSTM MODEL"
   ]
  },
  {
   "cell_type": "code",
   "execution_count": 51,
   "id": "aeee8303",
   "metadata": {},
   "outputs": [],
   "source": [
    "#importing libraries for lstm model\n",
    "import tensorflow as tf\n",
    "from tensorflow import keras\n",
    "from keras.models import Sequential\n",
    "from keras.layers import Dense, Dropout, LSTM, Bidirectional\n"
   ]
  },
  {
   "cell_type": "code",
   "execution_count": 89,
   "id": "b20852ef",
   "metadata": {},
   "outputs": [
    {
     "name": "stdout",
     "output_type": "stream",
     "text": [
      "Model: \"sequential_15\"\n",
      "_________________________________________________________________\n",
      " Layer (type)                Output Shape              Param #   \n",
      "=================================================================\n",
      " lstm_26 (LSTM)              (None, 50, 50)            10600     \n",
      "                                                                 \n",
      " dropout_12 (Dropout)        (None, 50, 50)            0         \n",
      "                                                                 \n",
      " lstm_27 (LSTM)              (None, 50)                20200     \n",
      "                                                                 \n",
      " dense_16 (Dense)            (None, 2)                 102       \n",
      "                                                                 \n",
      "=================================================================\n",
      "Total params: 30,902\n",
      "Trainable params: 30,902\n",
      "Non-trainable params: 0\n",
      "_________________________________________________________________\n"
     ]
    },
    {
     "name": "stderr",
     "output_type": "stream",
     "text": [
      "2023-07-10 22:17:24.991771: I tensorflow/core/common_runtime/executor.cc:1197] [/device:CPU:0] (DEBUG INFO) Executor start aborting (this does not indicate an error and you can ignore this message): INVALID_ARGUMENT: You must feed a value for placeholder tensor 'gradients/split_2_grad/concat/split_2/split_dim' with dtype int32\n",
      "\t [[{{node gradients/split_2_grad/concat/split_2/split_dim}}]]\n",
      "2023-07-10 22:17:24.992824: I tensorflow/core/common_runtime/executor.cc:1197] [/device:CPU:0] (DEBUG INFO) Executor start aborting (this does not indicate an error and you can ignore this message): INVALID_ARGUMENT: You must feed a value for placeholder tensor 'gradients/split_grad/concat/split/split_dim' with dtype int32\n",
      "\t [[{{node gradients/split_grad/concat/split/split_dim}}]]\n",
      "2023-07-10 22:17:24.993982: I tensorflow/core/common_runtime/executor.cc:1197] [/device:CPU:0] (DEBUG INFO) Executor start aborting (this does not indicate an error and you can ignore this message): INVALID_ARGUMENT: You must feed a value for placeholder tensor 'gradients/split_1_grad/concat/split_1/split_dim' with dtype int32\n",
      "\t [[{{node gradients/split_1_grad/concat/split_1/split_dim}}]]\n",
      "2023-07-10 22:17:25.116532: I tensorflow/core/common_runtime/executor.cc:1197] [/device:CPU:0] (DEBUG INFO) Executor start aborting (this does not indicate an error and you can ignore this message): INVALID_ARGUMENT: You must feed a value for placeholder tensor 'gradients/split_2_grad/concat/split_2/split_dim' with dtype int32\n",
      "\t [[{{node gradients/split_2_grad/concat/split_2/split_dim}}]]\n",
      "2023-07-10 22:17:25.118745: I tensorflow/core/common_runtime/executor.cc:1197] [/device:CPU:0] (DEBUG INFO) Executor start aborting (this does not indicate an error and you can ignore this message): INVALID_ARGUMENT: You must feed a value for placeholder tensor 'gradients/split_grad/concat/split/split_dim' with dtype int32\n",
      "\t [[{{node gradients/split_grad/concat/split/split_dim}}]]\n",
      "2023-07-10 22:17:25.119748: I tensorflow/core/common_runtime/executor.cc:1197] [/device:CPU:0] (DEBUG INFO) Executor start aborting (this does not indicate an error and you can ignore this message): INVALID_ARGUMENT: You must feed a value for placeholder tensor 'gradients/split_1_grad/concat/split_1/split_dim' with dtype int32\n",
      "\t [[{{node gradients/split_1_grad/concat/split_1/split_dim}}]]\n"
     ]
    }
   ],
   "source": [
    "# imported Sequential from keras.models \n",
    "model = Sequential()\n",
    "# importing Dense, Dropout, LSTM, Bidirectional from keras.layers \n",
    "model.add(LSTM(units=50, return_sequences=True, input_shape = (train_seq.shape[1], train_seq.shape[2])))\n",
    "\n",
    "model.add(Dropout(0.1)) \n",
    "model.add(LSTM(units=50))\n",
    "\n",
    "model.add(Dense(2))\n",
    "\n",
    "model.compile(loss='mean_squared_error', optimizer='adam', metrics=['mean_absolute_error'])\n",
    "\n",
    "model.summary()"
   ]
  },
  {
   "cell_type": "code",
   "execution_count": 90,
   "id": "1475728d",
   "metadata": {},
   "outputs": [
    {
     "name": "stdout",
     "output_type": "stream",
     "text": [
      "Epoch 1/100\n"
     ]
    },
    {
     "name": "stderr",
     "output_type": "stream",
     "text": [
      "2023-07-10 22:18:01.643586: I tensorflow/core/common_runtime/executor.cc:1197] [/device:CPU:0] (DEBUG INFO) Executor start aborting (this does not indicate an error and you can ignore this message): INVALID_ARGUMENT: You must feed a value for placeholder tensor 'gradients/split_2_grad/concat/split_2/split_dim' with dtype int32\n",
      "\t [[{{node gradients/split_2_grad/concat/split_2/split_dim}}]]\n",
      "2023-07-10 22:18:01.645224: I tensorflow/core/common_runtime/executor.cc:1197] [/device:CPU:0] (DEBUG INFO) Executor start aborting (this does not indicate an error and you can ignore this message): INVALID_ARGUMENT: You must feed a value for placeholder tensor 'gradients/split_grad/concat/split/split_dim' with dtype int32\n",
      "\t [[{{node gradients/split_grad/concat/split/split_dim}}]]\n",
      "2023-07-10 22:18:01.646227: I tensorflow/core/common_runtime/executor.cc:1197] [/device:CPU:0] (DEBUG INFO) Executor start aborting (this does not indicate an error and you can ignore this message): INVALID_ARGUMENT: You must feed a value for placeholder tensor 'gradients/split_1_grad/concat/split_1/split_dim' with dtype int32\n",
      "\t [[{{node gradients/split_1_grad/concat/split_1/split_dim}}]]\n",
      "2023-07-10 22:18:01.774591: I tensorflow/core/common_runtime/executor.cc:1197] [/device:CPU:0] (DEBUG INFO) Executor start aborting (this does not indicate an error and you can ignore this message): INVALID_ARGUMENT: You must feed a value for placeholder tensor 'gradients/split_2_grad/concat/split_2/split_dim' with dtype int32\n",
      "\t [[{{node gradients/split_2_grad/concat/split_2/split_dim}}]]\n",
      "2023-07-10 22:18:01.775690: I tensorflow/core/common_runtime/executor.cc:1197] [/device:CPU:0] (DEBUG INFO) Executor start aborting (this does not indicate an error and you can ignore this message): INVALID_ARGUMENT: You must feed a value for placeholder tensor 'gradients/split_grad/concat/split/split_dim' with dtype int32\n",
      "\t [[{{node gradients/split_grad/concat/split/split_dim}}]]\n",
      "2023-07-10 22:18:01.776698: I tensorflow/core/common_runtime/executor.cc:1197] [/device:CPU:0] (DEBUG INFO) Executor start aborting (this does not indicate an error and you can ignore this message): INVALID_ARGUMENT: You must feed a value for placeholder tensor 'gradients/split_1_grad/concat/split_1/split_dim' with dtype int32\n",
      "\t [[{{node gradients/split_1_grad/concat/split_1/split_dim}}]]\n",
      "2023-07-10 22:18:02.364211: I tensorflow/core/common_runtime/executor.cc:1197] [/device:CPU:0] (DEBUG INFO) Executor start aborting (this does not indicate an error and you can ignore this message): INVALID_ARGUMENT: You must feed a value for placeholder tensor 'gradients/split_2_grad/concat/split_2/split_dim' with dtype int32\n",
      "\t [[{{node gradients/split_2_grad/concat/split_2/split_dim}}]]\n",
      "2023-07-10 22:18:02.365930: I tensorflow/core/common_runtime/executor.cc:1197] [/device:CPU:0] (DEBUG INFO) Executor start aborting (this does not indicate an error and you can ignore this message): INVALID_ARGUMENT: You must feed a value for placeholder tensor 'gradients/split_grad/concat/split/split_dim' with dtype int32\n",
      "\t [[{{node gradients/split_grad/concat/split/split_dim}}]]\n",
      "2023-07-10 22:18:02.367117: I tensorflow/core/common_runtime/executor.cc:1197] [/device:CPU:0] (DEBUG INFO) Executor start aborting (this does not indicate an error and you can ignore this message): INVALID_ARGUMENT: You must feed a value for placeholder tensor 'gradients/split_1_grad/concat/split_1/split_dim' with dtype int32\n",
      "\t [[{{node gradients/split_1_grad/concat/split_1/split_dim}}]]\n",
      "2023-07-10 22:18:02.525532: I tensorflow/core/common_runtime/executor.cc:1197] [/device:CPU:0] (DEBUG INFO) Executor start aborting (this does not indicate an error and you can ignore this message): INVALID_ARGUMENT: You must feed a value for placeholder tensor 'gradients/split_2_grad/concat/split_2/split_dim' with dtype int32\n",
      "\t [[{{node gradients/split_2_grad/concat/split_2/split_dim}}]]\n",
      "2023-07-10 22:18:02.527148: I tensorflow/core/common_runtime/executor.cc:1197] [/device:CPU:0] (DEBUG INFO) Executor start aborting (this does not indicate an error and you can ignore this message): INVALID_ARGUMENT: You must feed a value for placeholder tensor 'gradients/split_grad/concat/split/split_dim' with dtype int32\n",
      "\t [[{{node gradients/split_grad/concat/split/split_dim}}]]\n",
      "2023-07-10 22:18:02.528596: I tensorflow/core/common_runtime/executor.cc:1197] [/device:CPU:0] (DEBUG INFO) Executor start aborting (this does not indicate an error and you can ignore this message): INVALID_ARGUMENT: You must feed a value for placeholder tensor 'gradients/split_1_grad/concat/split_1/split_dim' with dtype int32\n",
      "\t [[{{node gradients/split_1_grad/concat/split_1/split_dim}}]]\n"
     ]
    },
    {
     "name": "stdout",
     "output_type": "stream",
     "text": [
      "29/30 [============================>.] - ETA: 0s - loss: 0.0101 - mean_absolute_error: 0.0728"
     ]
    },
    {
     "name": "stderr",
     "output_type": "stream",
     "text": [
      "2023-07-10 22:18:04.813094: I tensorflow/core/common_runtime/executor.cc:1197] [/device:CPU:0] (DEBUG INFO) Executor start aborting (this does not indicate an error and you can ignore this message): INVALID_ARGUMENT: You must feed a value for placeholder tensor 'gradients/split_2_grad/concat/split_2/split_dim' with dtype int32\n",
      "\t [[{{node gradients/split_2_grad/concat/split_2/split_dim}}]]\n",
      "2023-07-10 22:18:04.814434: I tensorflow/core/common_runtime/executor.cc:1197] [/device:CPU:0] (DEBUG INFO) Executor start aborting (this does not indicate an error and you can ignore this message): INVALID_ARGUMENT: You must feed a value for placeholder tensor 'gradients/split_grad/concat/split/split_dim' with dtype int32\n",
      "\t [[{{node gradients/split_grad/concat/split/split_dim}}]]\n",
      "2023-07-10 22:18:04.815517: I tensorflow/core/common_runtime/executor.cc:1197] [/device:CPU:0] (DEBUG INFO) Executor start aborting (this does not indicate an error and you can ignore this message): INVALID_ARGUMENT: You must feed a value for placeholder tensor 'gradients/split_1_grad/concat/split_1/split_dim' with dtype int32\n",
      "\t [[{{node gradients/split_1_grad/concat/split_1/split_dim}}]]\n",
      "2023-07-10 22:18:04.935795: I tensorflow/core/common_runtime/executor.cc:1197] [/device:CPU:0] (DEBUG INFO) Executor start aborting (this does not indicate an error and you can ignore this message): INVALID_ARGUMENT: You must feed a value for placeholder tensor 'gradients/split_2_grad/concat/split_2/split_dim' with dtype int32\n",
      "\t [[{{node gradients/split_2_grad/concat/split_2/split_dim}}]]\n",
      "2023-07-10 22:18:04.936840: I tensorflow/core/common_runtime/executor.cc:1197] [/device:CPU:0] (DEBUG INFO) Executor start aborting (this does not indicate an error and you can ignore this message): INVALID_ARGUMENT: You must feed a value for placeholder tensor 'gradients/split_grad/concat/split/split_dim' with dtype int32\n",
      "\t [[{{node gradients/split_grad/concat/split/split_dim}}]]\n",
      "2023-07-10 22:18:04.937810: I tensorflow/core/common_runtime/executor.cc:1197] [/device:CPU:0] (DEBUG INFO) Executor start aborting (this does not indicate an error and you can ignore this message): INVALID_ARGUMENT: You must feed a value for placeholder tensor 'gradients/split_1_grad/concat/split_1/split_dim' with dtype int32\n",
      "\t [[{{node gradients/split_1_grad/concat/split_1/split_dim}}]]\n"
     ]
    },
    {
     "name": "stdout",
     "output_type": "stream",
     "text": [
      "30/30 [==============================] - 4s 53ms/step - loss: 0.0098 - mean_absolute_error: 0.0716 - val_loss: 0.0169 - val_mean_absolute_error: 0.1145\n",
      "Epoch 2/100\n",
      "30/30 [==============================] - 1s 41ms/step - loss: 0.0012 - mean_absolute_error: 0.0281 - val_loss: 0.0051 - val_mean_absolute_error: 0.0594\n",
      "Epoch 3/100\n",
      "30/30 [==============================] - 1s 43ms/step - loss: 5.7460e-04 - mean_absolute_error: 0.0176 - val_loss: 0.0017 - val_mean_absolute_error: 0.0345\n",
      "Epoch 4/100\n",
      "30/30 [==============================] - 1s 39ms/step - loss: 5.2856e-04 - mean_absolute_error: 0.0165 - val_loss: 0.0014 - val_mean_absolute_error: 0.0307\n",
      "Epoch 5/100\n",
      "30/30 [==============================] - 1s 39ms/step - loss: 5.1019e-04 - mean_absolute_error: 0.0161 - val_loss: 0.0013 - val_mean_absolute_error: 0.0302\n",
      "Epoch 6/100\n",
      "30/30 [==============================] - 1s 36ms/step - loss: 4.8595e-04 - mean_absolute_error: 0.0156 - val_loss: 0.0015 - val_mean_absolute_error: 0.0308\n",
      "Epoch 7/100\n",
      "30/30 [==============================] - 1s 44ms/step - loss: 4.4299e-04 - mean_absolute_error: 0.0152 - val_loss: 0.0019 - val_mean_absolute_error: 0.0349\n",
      "Epoch 8/100\n",
      "30/30 [==============================] - 1s 35ms/step - loss: 4.0304e-04 - mean_absolute_error: 0.0146 - val_loss: 0.0018 - val_mean_absolute_error: 0.0337\n",
      "Epoch 9/100\n",
      "30/30 [==============================] - 1s 40ms/step - loss: 4.2616e-04 - mean_absolute_error: 0.0150 - val_loss: 0.0030 - val_mean_absolute_error: 0.0453\n",
      "Epoch 10/100\n",
      "30/30 [==============================] - 1s 38ms/step - loss: 3.6052e-04 - mean_absolute_error: 0.0137 - val_loss: 0.0031 - val_mean_absolute_error: 0.0463\n",
      "Epoch 11/100\n",
      "30/30 [==============================] - 1s 38ms/step - loss: 3.6534e-04 - mean_absolute_error: 0.0137 - val_loss: 0.0033 - val_mean_absolute_error: 0.0484\n",
      "Epoch 12/100\n",
      "30/30 [==============================] - 1s 40ms/step - loss: 3.3252e-04 - mean_absolute_error: 0.0132 - val_loss: 0.0032 - val_mean_absolute_error: 0.0477\n",
      "Epoch 13/100\n",
      "30/30 [==============================] - 1s 41ms/step - loss: 3.5317e-04 - mean_absolute_error: 0.0137 - val_loss: 0.0056 - val_mean_absolute_error: 0.0652\n",
      "Epoch 14/100\n",
      "30/30 [==============================] - 1s 41ms/step - loss: 3.7181e-04 - mean_absolute_error: 0.0140 - val_loss: 0.0026 - val_mean_absolute_error: 0.0411\n",
      "Epoch 15/100\n",
      "30/30 [==============================] - 1s 40ms/step - loss: 3.1739e-04 - mean_absolute_error: 0.0131 - val_loss: 0.0025 - val_mean_absolute_error: 0.0404\n",
      "Epoch 16/100\n",
      "30/30 [==============================] - 1s 38ms/step - loss: 3.1202e-04 - mean_absolute_error: 0.0131 - val_loss: 0.0037 - val_mean_absolute_error: 0.0510\n",
      "Epoch 17/100\n",
      "30/30 [==============================] - 1s 38ms/step - loss: 3.2372e-04 - mean_absolute_error: 0.0131 - val_loss: 0.0049 - val_mean_absolute_error: 0.0597\n",
      "Epoch 18/100\n",
      "30/30 [==============================] - 1s 36ms/step - loss: 2.9115e-04 - mean_absolute_error: 0.0126 - val_loss: 0.0075 - val_mean_absolute_error: 0.0757\n",
      "Epoch 19/100\n",
      "30/30 [==============================] - 1s 43ms/step - loss: 2.9267e-04 - mean_absolute_error: 0.0126 - val_loss: 0.0041 - val_mean_absolute_error: 0.0525\n",
      "Epoch 20/100\n",
      "30/30 [==============================] - 1s 36ms/step - loss: 3.0650e-04 - mean_absolute_error: 0.0130 - val_loss: 0.0077 - val_mean_absolute_error: 0.0770\n",
      "Epoch 21/100\n",
      "30/30 [==============================] - 1s 37ms/step - loss: 2.7311e-04 - mean_absolute_error: 0.0123 - val_loss: 0.0060 - val_mean_absolute_error: 0.0663\n",
      "Epoch 22/100\n",
      "30/30 [==============================] - 1s 32ms/step - loss: 2.9665e-04 - mean_absolute_error: 0.0128 - val_loss: 0.0059 - val_mean_absolute_error: 0.0659\n",
      "Epoch 23/100\n",
      "30/30 [==============================] - 1s 40ms/step - loss: 2.9943e-04 - mean_absolute_error: 0.0126 - val_loss: 0.0067 - val_mean_absolute_error: 0.0717\n",
      "Epoch 24/100\n",
      "30/30 [==============================] - 1s 32ms/step - loss: 2.9883e-04 - mean_absolute_error: 0.0127 - val_loss: 0.0079 - val_mean_absolute_error: 0.0778\n",
      "Epoch 25/100\n",
      "30/30 [==============================] - 1s 31ms/step - loss: 2.8010e-04 - mean_absolute_error: 0.0122 - val_loss: 0.0078 - val_mean_absolute_error: 0.0772\n",
      "Epoch 26/100\n",
      "30/30 [==============================] - 1s 36ms/step - loss: 2.5542e-04 - mean_absolute_error: 0.0117 - val_loss: 0.0035 - val_mean_absolute_error: 0.0489\n",
      "Epoch 27/100\n",
      "30/30 [==============================] - 1s 39ms/step - loss: 2.6691e-04 - mean_absolute_error: 0.0120 - val_loss: 0.0030 - val_mean_absolute_error: 0.0446\n",
      "Epoch 28/100\n",
      "30/30 [==============================] - 1s 41ms/step - loss: 2.6783e-04 - mean_absolute_error: 0.0119 - val_loss: 0.0024 - val_mean_absolute_error: 0.0397\n",
      "Epoch 29/100\n",
      "30/30 [==============================] - 1s 41ms/step - loss: 2.6535e-04 - mean_absolute_error: 0.0121 - val_loss: 0.0051 - val_mean_absolute_error: 0.0615\n",
      "Epoch 30/100\n",
      "30/30 [==============================] - 1s 34ms/step - loss: 2.3917e-04 - mean_absolute_error: 0.0114 - val_loss: 0.0031 - val_mean_absolute_error: 0.0466\n",
      "Epoch 31/100\n",
      "30/30 [==============================] - 1s 38ms/step - loss: 2.5353e-04 - mean_absolute_error: 0.0116 - val_loss: 0.0047 - val_mean_absolute_error: 0.0599\n",
      "Epoch 32/100\n",
      "30/30 [==============================] - 1s 44ms/step - loss: 2.3378e-04 - mean_absolute_error: 0.0113 - val_loss: 0.0045 - val_mean_absolute_error: 0.0580\n",
      "Epoch 33/100\n",
      "30/30 [==============================] - 1s 36ms/step - loss: 2.4568e-04 - mean_absolute_error: 0.0115 - val_loss: 0.0029 - val_mean_absolute_error: 0.0449\n",
      "Epoch 34/100\n",
      "30/30 [==============================] - 1s 40ms/step - loss: 2.3274e-04 - mean_absolute_error: 0.0113 - val_loss: 0.0034 - val_mean_absolute_error: 0.0494\n",
      "Epoch 35/100\n",
      "30/30 [==============================] - 1s 42ms/step - loss: 2.3007e-04 - mean_absolute_error: 0.0111 - val_loss: 0.0038 - val_mean_absolute_error: 0.0527\n",
      "Epoch 36/100\n",
      "30/30 [==============================] - 1s 37ms/step - loss: 2.3482e-04 - mean_absolute_error: 0.0114 - val_loss: 0.0018 - val_mean_absolute_error: 0.0323\n",
      "Epoch 37/100\n",
      "30/30 [==============================] - 1s 39ms/step - loss: 2.2102e-04 - mean_absolute_error: 0.0110 - val_loss: 0.0028 - val_mean_absolute_error: 0.0432\n",
      "Epoch 38/100\n",
      "30/30 [==============================] - 1s 39ms/step - loss: 2.2167e-04 - mean_absolute_error: 0.0108 - val_loss: 0.0032 - val_mean_absolute_error: 0.0483\n",
      "Epoch 39/100\n",
      "30/30 [==============================] - 1s 39ms/step - loss: 2.5505e-04 - mean_absolute_error: 0.0115 - val_loss: 0.0057 - val_mean_absolute_error: 0.0665\n",
      "Epoch 40/100\n",
      "30/30 [==============================] - 1s 39ms/step - loss: 2.1564e-04 - mean_absolute_error: 0.0108 - val_loss: 0.0051 - val_mean_absolute_error: 0.0634\n",
      "Epoch 41/100\n",
      "30/30 [==============================] - 1s 37ms/step - loss: 2.2486e-04 - mean_absolute_error: 0.0110 - val_loss: 0.0040 - val_mean_absolute_error: 0.0560\n",
      "Epoch 42/100\n",
      "30/30 [==============================] - 1s 47ms/step - loss: 2.6634e-04 - mean_absolute_error: 0.0123 - val_loss: 0.0077 - val_mean_absolute_error: 0.0807\n",
      "Epoch 43/100\n",
      "30/30 [==============================] - 1s 39ms/step - loss: 2.8075e-04 - mean_absolute_error: 0.0122 - val_loss: 0.0032 - val_mean_absolute_error: 0.0489\n",
      "Epoch 44/100\n",
      "30/30 [==============================] - 1s 45ms/step - loss: 2.1456e-04 - mean_absolute_error: 0.0106 - val_loss: 0.0024 - val_mean_absolute_error: 0.0406\n",
      "Epoch 45/100\n",
      "30/30 [==============================] - 1s 38ms/step - loss: 2.0644e-04 - mean_absolute_error: 0.0104 - val_loss: 0.0022 - val_mean_absolute_error: 0.0388\n",
      "Epoch 46/100\n",
      "30/30 [==============================] - 1s 31ms/step - loss: 2.1827e-04 - mean_absolute_error: 0.0108 - val_loss: 0.0026 - val_mean_absolute_error: 0.0425\n",
      "Epoch 47/100\n",
      "30/30 [==============================] - 1s 33ms/step - loss: 1.8877e-04 - mean_absolute_error: 0.0101 - val_loss: 0.0022 - val_mean_absolute_error: 0.0389\n",
      "Epoch 48/100\n",
      "30/30 [==============================] - 1s 36ms/step - loss: 2.0300e-04 - mean_absolute_error: 0.0103 - val_loss: 0.0035 - val_mean_absolute_error: 0.0511\n",
      "Epoch 49/100\n"
     ]
    },
    {
     "name": "stdout",
     "output_type": "stream",
     "text": [
      "30/30 [==============================] - 1s 39ms/step - loss: 2.1015e-04 - mean_absolute_error: 0.0106 - val_loss: 0.0028 - val_mean_absolute_error: 0.0444\n",
      "Epoch 50/100\n",
      "30/30 [==============================] - 1s 41ms/step - loss: 1.9019e-04 - mean_absolute_error: 0.0099 - val_loss: 0.0032 - val_mean_absolute_error: 0.0489\n",
      "Epoch 51/100\n",
      "30/30 [==============================] - 1s 40ms/step - loss: 1.9021e-04 - mean_absolute_error: 0.0100 - val_loss: 0.0023 - val_mean_absolute_error: 0.0401\n",
      "Epoch 52/100\n",
      "30/30 [==============================] - 1s 44ms/step - loss: 2.0775e-04 - mean_absolute_error: 0.0104 - val_loss: 6.3349e-04 - val_mean_absolute_error: 0.0188\n",
      "Epoch 53/100\n",
      "30/30 [==============================] - 1s 41ms/step - loss: 2.0630e-04 - mean_absolute_error: 0.0105 - val_loss: 0.0016 - val_mean_absolute_error: 0.0329\n",
      "Epoch 54/100\n",
      "30/30 [==============================] - 1s 29ms/step - loss: 1.7573e-04 - mean_absolute_error: 0.0095 - val_loss: 0.0028 - val_mean_absolute_error: 0.0458\n",
      "Epoch 55/100\n",
      "30/30 [==============================] - 1s 31ms/step - loss: 1.8677e-04 - mean_absolute_error: 0.0098 - val_loss: 0.0040 - val_mean_absolute_error: 0.0555\n",
      "Epoch 56/100\n",
      "30/30 [==============================] - 1s 41ms/step - loss: 1.8966e-04 - mean_absolute_error: 0.0102 - val_loss: 0.0027 - val_mean_absolute_error: 0.0444\n",
      "Epoch 57/100\n",
      "30/30 [==============================] - 1s 45ms/step - loss: 1.8438e-04 - mean_absolute_error: 0.0100 - val_loss: 0.0020 - val_mean_absolute_error: 0.0383\n",
      "Epoch 58/100\n",
      "30/30 [==============================] - 1s 43ms/step - loss: 1.8598e-04 - mean_absolute_error: 0.0100 - val_loss: 0.0025 - val_mean_absolute_error: 0.0419\n",
      "Epoch 59/100\n",
      "30/30 [==============================] - 1s 46ms/step - loss: 1.7169e-04 - mean_absolute_error: 0.0096 - val_loss: 0.0039 - val_mean_absolute_error: 0.0534\n",
      "Epoch 60/100\n",
      "30/30 [==============================] - 1s 41ms/step - loss: 1.6786e-04 - mean_absolute_error: 0.0094 - val_loss: 0.0019 - val_mean_absolute_error: 0.0363\n",
      "Epoch 61/100\n",
      "30/30 [==============================] - 1s 44ms/step - loss: 1.7098e-04 - mean_absolute_error: 0.0095 - val_loss: 0.0019 - val_mean_absolute_error: 0.0361\n",
      "Epoch 62/100\n",
      "30/30 [==============================] - 1s 27ms/step - loss: 1.7733e-04 - mean_absolute_error: 0.0097 - val_loss: 0.0019 - val_mean_absolute_error: 0.0364\n",
      "Epoch 63/100\n",
      "30/30 [==============================] - 1s 41ms/step - loss: 1.7414e-04 - mean_absolute_error: 0.0097 - val_loss: 0.0035 - val_mean_absolute_error: 0.0516\n",
      "Epoch 64/100\n",
      "30/30 [==============================] - 1s 44ms/step - loss: 1.6528e-04 - mean_absolute_error: 0.0093 - val_loss: 0.0040 - val_mean_absolute_error: 0.0562\n",
      "Epoch 65/100\n",
      "30/30 [==============================] - 1s 45ms/step - loss: 1.7050e-04 - mean_absolute_error: 0.0096 - val_loss: 0.0027 - val_mean_absolute_error: 0.0438\n",
      "Epoch 66/100\n",
      "30/30 [==============================] - 1s 44ms/step - loss: 1.6130e-04 - mean_absolute_error: 0.0093 - val_loss: 0.0041 - val_mean_absolute_error: 0.0574\n",
      "Epoch 67/100\n",
      "30/30 [==============================] - 1s 41ms/step - loss: 1.6463e-04 - mean_absolute_error: 0.0092 - val_loss: 0.0022 - val_mean_absolute_error: 0.0394\n",
      "Epoch 68/100\n",
      "30/30 [==============================] - 1s 36ms/step - loss: 1.8055e-04 - mean_absolute_error: 0.0098 - val_loss: 0.0050 - val_mean_absolute_error: 0.0611\n",
      "Epoch 69/100\n",
      "30/30 [==============================] - 1s 46ms/step - loss: 1.6505e-04 - mean_absolute_error: 0.0094 - val_loss: 0.0033 - val_mean_absolute_error: 0.0508\n",
      "Epoch 70/100\n",
      "30/30 [==============================] - 1s 43ms/step - loss: 1.4756e-04 - mean_absolute_error: 0.0087 - val_loss: 0.0051 - val_mean_absolute_error: 0.0636\n",
      "Epoch 71/100\n",
      "30/30 [==============================] - 1s 45ms/step - loss: 1.8213e-04 - mean_absolute_error: 0.0099 - val_loss: 0.0059 - val_mean_absolute_error: 0.0687\n",
      "Epoch 72/100\n",
      "30/30 [==============================] - 1s 46ms/step - loss: 1.6233e-04 - mean_absolute_error: 0.0094 - val_loss: 0.0055 - val_mean_absolute_error: 0.0656\n",
      "Epoch 73/100\n",
      "30/30 [==============================] - 1s 39ms/step - loss: 1.6489e-04 - mean_absolute_error: 0.0093 - val_loss: 0.0024 - val_mean_absolute_error: 0.0416\n",
      "Epoch 74/100\n",
      "30/30 [==============================] - 1s 41ms/step - loss: 1.5433e-04 - mean_absolute_error: 0.0090 - val_loss: 0.0019 - val_mean_absolute_error: 0.0368\n",
      "Epoch 75/100\n",
      "30/30 [==============================] - 1s 46ms/step - loss: 1.4124e-04 - mean_absolute_error: 0.0086 - val_loss: 0.0027 - val_mean_absolute_error: 0.0445\n",
      "Epoch 76/100\n",
      "30/30 [==============================] - 1s 43ms/step - loss: 1.6054e-04 - mean_absolute_error: 0.0092 - val_loss: 0.0059 - val_mean_absolute_error: 0.0690\n",
      "Epoch 77/100\n",
      "30/30 [==============================] - 1s 45ms/step - loss: 1.3498e-04 - mean_absolute_error: 0.0083 - val_loss: 0.0036 - val_mean_absolute_error: 0.0528\n",
      "Epoch 78/100\n",
      "30/30 [==============================] - 1s 47ms/step - loss: 1.4409e-04 - mean_absolute_error: 0.0087 - val_loss: 0.0038 - val_mean_absolute_error: 0.0542\n",
      "Epoch 79/100\n",
      "30/30 [==============================] - 1s 45ms/step - loss: 1.3308e-04 - mean_absolute_error: 0.0083 - val_loss: 0.0030 - val_mean_absolute_error: 0.0463\n",
      "Epoch 80/100\n",
      "30/30 [==============================] - 1s 34ms/step - loss: 1.4473e-04 - mean_absolute_error: 0.0086 - val_loss: 0.0019 - val_mean_absolute_error: 0.0351\n",
      "Epoch 81/100\n",
      "30/30 [==============================] - 1s 41ms/step - loss: 1.5958e-04 - mean_absolute_error: 0.0092 - val_loss: 0.0022 - val_mean_absolute_error: 0.0387\n",
      "Epoch 82/100\n",
      "30/30 [==============================] - 1s 45ms/step - loss: 1.5053e-04 - mean_absolute_error: 0.0088 - val_loss: 0.0033 - val_mean_absolute_error: 0.0490\n",
      "Epoch 83/100\n",
      "30/30 [==============================] - 1s 47ms/step - loss: 1.3429e-04 - mean_absolute_error: 0.0082 - val_loss: 0.0041 - val_mean_absolute_error: 0.0550\n",
      "Epoch 84/100\n",
      "30/30 [==============================] - 1s 42ms/step - loss: 1.3355e-04 - mean_absolute_error: 0.0083 - val_loss: 0.0049 - val_mean_absolute_error: 0.0613\n",
      "Epoch 85/100\n",
      "30/30 [==============================] - 1s 45ms/step - loss: 1.2627e-04 - mean_absolute_error: 0.0082 - val_loss: 0.0040 - val_mean_absolute_error: 0.0543\n",
      "Epoch 86/100\n",
      "30/30 [==============================] - 1s 42ms/step - loss: 1.3232e-04 - mean_absolute_error: 0.0083 - val_loss: 0.0074 - val_mean_absolute_error: 0.0749\n",
      "Epoch 87/100\n",
      "30/30 [==============================] - 1s 47ms/step - loss: 1.3262e-04 - mean_absolute_error: 0.0083 - val_loss: 0.0036 - val_mean_absolute_error: 0.0514\n",
      "Epoch 88/100\n",
      "30/30 [==============================] - 1s 44ms/step - loss: 1.2476e-04 - mean_absolute_error: 0.0081 - val_loss: 0.0039 - val_mean_absolute_error: 0.0524\n",
      "Epoch 89/100\n",
      "30/30 [==============================] - 1s 46ms/step - loss: 1.5439e-04 - mean_absolute_error: 0.0090 - val_loss: 0.0021 - val_mean_absolute_error: 0.0385\n",
      "Epoch 90/100\n",
      "30/30 [==============================] - 1s 41ms/step - loss: 1.2410e-04 - mean_absolute_error: 0.0081 - val_loss: 0.0025 - val_mean_absolute_error: 0.0416\n",
      "Epoch 91/100\n",
      "30/30 [==============================] - 1s 45ms/step - loss: 1.2667e-04 - mean_absolute_error: 0.0081 - val_loss: 0.0033 - val_mean_absolute_error: 0.0500\n",
      "Epoch 92/100\n",
      "30/30 [==============================] - 1s 38ms/step - loss: 1.2168e-04 - mean_absolute_error: 0.0078 - val_loss: 0.0030 - val_mean_absolute_error: 0.0455\n",
      "Epoch 93/100\n",
      "30/30 [==============================] - 1s 42ms/step - loss: 1.2249e-04 - mean_absolute_error: 0.0079 - val_loss: 0.0028 - val_mean_absolute_error: 0.0441\n",
      "Epoch 94/100\n",
      "30/30 [==============================] - 1s 45ms/step - loss: 1.1570e-04 - mean_absolute_error: 0.0076 - val_loss: 0.0024 - val_mean_absolute_error: 0.0401\n",
      "Epoch 95/100\n",
      "30/30 [==============================] - 1s 46ms/step - loss: 1.2003e-04 - mean_absolute_error: 0.0078 - val_loss: 0.0022 - val_mean_absolute_error: 0.0396\n",
      "Epoch 96/100\n",
      "30/30 [==============================] - 1s 48ms/step - loss: 1.4280e-04 - mean_absolute_error: 0.0088 - val_loss: 0.0022 - val_mean_absolute_error: 0.0383\n",
      "Epoch 97/100\n"
     ]
    },
    {
     "name": "stdout",
     "output_type": "stream",
     "text": [
      "30/30 [==============================] - 1s 44ms/step - loss: 1.2234e-04 - mean_absolute_error: 0.0078 - val_loss: 0.0021 - val_mean_absolute_error: 0.0375\n",
      "Epoch 98/100\n",
      "30/30 [==============================] - 1s 44ms/step - loss: 1.1331e-04 - mean_absolute_error: 0.0075 - val_loss: 0.0043 - val_mean_absolute_error: 0.0561\n",
      "Epoch 99/100\n",
      "30/30 [==============================] - 1s 44ms/step - loss: 1.1020e-04 - mean_absolute_error: 0.0076 - val_loss: 0.0036 - val_mean_absolute_error: 0.0504\n",
      "Epoch 100/100\n",
      "30/30 [==============================] - 1s 48ms/step - loss: 1.2033e-04 - mean_absolute_error: 0.0079 - val_loss: 0.0033 - val_mean_absolute_error: 0.0479\n"
     ]
    },
    {
     "data": {
      "text/plain": [
       "<keras.callbacks.History at 0x7eff2c235570>"
      ]
     },
     "execution_count": 90,
     "metadata": {},
     "output_type": "execute_result"
    }
   ],
   "source": [
    "# fitting the model by iterating the dataset over 100 times(100 epochs)\n",
    "model.fit(train_seq, train_label, epochs=100,validation_data=(test_seq, test_label), verbose=1)"
   ]
  },
  {
   "cell_type": "code",
   "execution_count": 91,
   "id": "6cf7edf2",
   "metadata": {},
   "outputs": [
    {
     "data": {
      "text/plain": [
       "[<matplotlib.lines.Line2D at 0x7eff2515f940>]"
      ]
     },
     "execution_count": 91,
     "metadata": {},
     "output_type": "execute_result"
    },
    {
     "data": {
      "image/png": "[encoded data removed]",
      "text/plain": [
       "<Figure size 432x288 with 1 Axes>"
      ]
     },
     "metadata": {
      "needs_background": "light"
     },
     "output_type": "display_data"
    }
   ],
   "source": [
    "#PLotting loss, it shows that loss has decreased significantly and model trained well\n",
    "loss = model.history.history['loss']\n",
    "plt.plot(loss)"
   ]
  },
  {
   "cell_type": "code",
   "execution_count": 92,
   "id": "cdc7b1bf",
   "metadata": {},
   "outputs": [
    {
     "name": "stderr",
     "output_type": "stream",
     "text": [
      "2023-07-10 22:21:03.446361: I tensorflow/core/common_runtime/executor.cc:1197] [/device:CPU:0] (DEBUG INFO) Executor start aborting (this does not indicate an error and you can ignore this message): INVALID_ARGUMENT: You must feed a value for placeholder tensor 'gradients/split_2_grad/concat/split_2/split_dim' with dtype int32\n",
      "\t [[{{node gradients/split_2_grad/concat/split_2/split_dim}}]]\n",
      "2023-07-10 22:21:03.447993: I tensorflow/core/common_runtime/executor.cc:1197] [/device:CPU:0] (DEBUG INFO) Executor start aborting (this does not indicate an error and you can ignore this message): INVALID_ARGUMENT: You must feed a value for placeholder tensor 'gradients/split_grad/concat/split/split_dim' with dtype int32\n",
      "\t [[{{node gradients/split_grad/concat/split/split_dim}}]]\n",
      "2023-07-10 22:21:03.449107: I tensorflow/core/common_runtime/executor.cc:1197] [/device:CPU:0] (DEBUG INFO) Executor start aborting (this does not indicate an error and you can ignore this message): INVALID_ARGUMENT: You must feed a value for placeholder tensor 'gradients/split_1_grad/concat/split_1/split_dim' with dtype int32\n",
      "\t [[{{node gradients/split_1_grad/concat/split_1/split_dim}}]]\n",
      "2023-07-10 22:21:03.571894: I tensorflow/core/common_runtime/executor.cc:1197] [/device:CPU:0] (DEBUG INFO) Executor start aborting (this does not indicate an error and you can ignore this message): INVALID_ARGUMENT: You must feed a value for placeholder tensor 'gradients/split_2_grad/concat/split_2/split_dim' with dtype int32\n",
      "\t [[{{node gradients/split_2_grad/concat/split_2/split_dim}}]]\n",
      "2023-07-10 22:21:03.573083: I tensorflow/core/common_runtime/executor.cc:1197] [/device:CPU:0] (DEBUG INFO) Executor start aborting (this does not indicate an error and you can ignore this message): INVALID_ARGUMENT: You must feed a value for placeholder tensor 'gradients/split_grad/concat/split/split_dim' with dtype int32\n",
      "\t [[{{node gradients/split_grad/concat/split/split_dim}}]]\n",
      "2023-07-10 22:21:03.574125: I tensorflow/core/common_runtime/executor.cc:1197] [/device:CPU:0] (DEBUG INFO) Executor start aborting (this does not indicate an error and you can ignore this message): INVALID_ARGUMENT: You must feed a value for placeholder tensor 'gradients/split_1_grad/concat/split_1/split_dim' with dtype int32\n",
      "\t [[{{node gradients/split_1_grad/concat/split_1/split_dim}}]]\n"
     ]
    },
    {
     "name": "stdout",
     "output_type": "stream",
     "text": [
      "7/7 [==============================] - 1s 16ms/step\n"
     ]
    },
    {
     "data": {
      "text/plain": [
       "array([[0.48190805, 0.48034543],\n",
       "       [0.48703244, 0.48544356],\n",
       "       [0.49292126, 0.4908724 ],\n",
       "       [0.51299703, 0.50944096],\n",
       "       [0.52218145, 0.51909107]], dtype=float32)"
      ]
     },
     "execution_count": 92,
     "metadata": {},
     "output_type": "execute_result"
    }
   ],
   "source": [
    "# predicting the values after running the model\n",
    "test_predicted = model.predict(test_seq)\n",
    "test_predicted[:5]"
   ]
  },
  {
   "cell_type": "code",
   "execution_count": 93,
   "id": "0e22ebb6",
   "metadata": {},
   "outputs": [
    {
     "data": {
      "text/plain": [
       "array([[1564.419 , 1558.5034],\n",
       "       [1573.9192, 1567.9519],\n",
       "       [1584.8365, 1578.0134],\n",
       "       [1622.0554, 1612.4274],\n",
       "       [1639.0826, 1630.3123]], dtype=float32)"
      ]
     },
     "execution_count": 93,
     "metadata": {},
     "output_type": "execute_result"
    }
   ],
   "source": [
    "# Inversing normalization/scaling on predicted data \n",
    "test_inverse_predicted = MMS.inverse_transform(test_predicted)\n",
    "test_inverse_predicted[:5]"
   ]
  },
  {
   "cell_type": "markdown",
   "id": "a2a7ee35",
   "metadata": {},
   "source": [
    "### STEP 5 : VISUALIZING ACTUAL VS PREDICTED DATA\n"
   ]
  },
  {
   "cell_type": "code",
   "execution_count": 96,
   "id": "fc96f289",
   "metadata": {},
   "outputs": [
    {
     "data": {
      "text/html": [
       "<div>\n",
       "<style scoped>\n",
       "    .dataframe tbody tr th:only-of-type {\n",
       "        vertical-align: middle;\n",
       "    }\n",
       "\n",
       "    .dataframe tbody tr th {\n",
       "        vertical-align: top;\n",
       "    }\n",
       "\n",
       "    .dataframe thead th {\n",
       "        text-align: right;\n",
       "    }\n",
       "</style>\n",
       "<table border=\"1\" class=\"dataframe\">\n",
       "  <thead>\n",
       "    <tr style=\"text-align: right;\">\n",
       "      <th></th>\n",
       "      <th>open</th>\n",
       "      <th>close</th>\n",
       "      <th>open_predicted</th>\n",
       "      <th>close_predicted</th>\n",
       "    </tr>\n",
       "    <tr>\n",
       "      <th>date</th>\n",
       "      <th></th>\n",
       "      <th></th>\n",
       "      <th></th>\n",
       "      <th></th>\n",
       "    </tr>\n",
       "  </thead>\n",
       "  <tbody>\n",
       "    <tr>\n",
       "      <th>2020-08-24</th>\n",
       "      <td>1593.98</td>\n",
       "      <td>1588.20</td>\n",
       "      <td>1564.418945</td>\n",
       "      <td>1558.503418</td>\n",
       "    </tr>\n",
       "    <tr>\n",
       "      <th>2020-08-25</th>\n",
       "      <td>1582.07</td>\n",
       "      <td>1608.22</td>\n",
       "      <td>1573.919189</td>\n",
       "      <td>1567.951904</td>\n",
       "    </tr>\n",
       "    <tr>\n",
       "      <th>2020-08-26</th>\n",
       "      <td>1608.00</td>\n",
       "      <td>1652.38</td>\n",
       "      <td>1584.836548</td>\n",
       "      <td>1578.013428</td>\n",
       "    </tr>\n",
       "    <tr>\n",
       "      <th>2020-08-27</th>\n",
       "      <td>1653.68</td>\n",
       "      <td>1634.33</td>\n",
       "      <td>1622.055420</td>\n",
       "      <td>1612.427368</td>\n",
       "    </tr>\n",
       "    <tr>\n",
       "      <th>2020-08-28</th>\n",
       "      <td>1633.49</td>\n",
       "      <td>1644.41</td>\n",
       "      <td>1639.082642</td>\n",
       "      <td>1630.312256</td>\n",
       "    </tr>\n",
       "  </tbody>\n",
       "</table>\n",
       "</div>"
      ],
      "text/plain": [
       "               open    close  open_predicted  close_predicted\n",
       "date                                                         \n",
       "2020-08-24  1593.98  1588.20     1564.418945      1558.503418\n",
       "2020-08-25  1582.07  1608.22     1573.919189      1567.951904\n",
       "2020-08-26  1608.00  1652.38     1584.836548      1578.013428\n",
       "2020-08-27  1653.68  1634.33     1622.055420      1612.427368\n",
       "2020-08-28  1633.49  1644.41     1639.082642      1630.312256"
      ]
     },
     "execution_count": 96,
     "metadata": {},
     "output_type": "execute_result"
    }
   ],
   "source": [
    "# Merging actual and predicted data for better visualization\n",
    "df_merge = pd.concat([df.iloc[-202:].copy(),\n",
    "                          pd.DataFrame(test_inverse_predicted,columns=['open_predicted','close_predicted'],\n",
    "                                       index=df.iloc[-202:].index)], axis=1)\n",
    "\n",
    "\n",
    "# Inversing normalization/scaling \n",
    "df_merge[['open','close']] = MMS.inverse_transform(df_merge[['open','close']])\n",
    "df_merge.head()"
   ]
  },
  {
   "cell_type": "code",
   "execution_count": 97,
   "id": "45c4fbaa",
   "metadata": {},
   "outputs": [
    {
     "data": {
      "image/png": "[encoded data removed]",
      "text/plain": [
       "<Figure size 720x432 with 1 Axes>"
      ]
     },
     "metadata": {
      "needs_background": "light"
     },
     "output_type": "display_data"
    }
   ],
   "source": [
    "# plotting the actual open and predicted open prices on date index\n",
    "df_merge[['open','open_predicted']].plot(figsize=(10,6))\n",
    "plt.xticks(rotation=45)\n",
    "plt.xlabel('Date',size=15)\n",
    "plt.ylabel('Stock Price',size=15)\n",
    "plt.title('Actual vs Predicted for open price',size=15)\n",
    "plt.show()"
   ]
  },
  {
   "cell_type": "code",
   "execution_count": 98,
   "id": "9b5008e5",
   "metadata": {},
   "outputs": [
    {
     "data": {
      "image/png": "[encoded data removed]",
      "text/plain": [
       "<Figure size 720x432 with 1 Axes>"
      ]
     },
     "metadata": {
      "needs_background": "light"
     },
     "output_type": "display_data"
    }
   ],
   "source": [
    "# plotting the actual close and predicted close prices on date index \n",
    "df_merge[['close','close_predicted']].plot(figsize=(10,6))\n",
    "plt.xticks(rotation=45)\n",
    "plt.xlabel('Date',size=15)\n",
    "plt.ylabel('Stock Price',size=15)\n",
    "plt.title('Actual vs Predicted for close price',size=15)\n",
    "plt.show()"
   ]
  },
  {
   "cell_type": "markdown",
   "id": "2f6e70fb",
   "metadata": {},
   "source": [
    "## STEP-7:PREDICTING UPCOMING 15 DAYS"
   ]
  },
  {
   "cell_type": "code",
   "execution_count": 119,
   "id": "62d0f918",
   "metadata": {},
   "outputs": [
    {
     "data": {
      "text/html": [
       "<div>\n",
       "<style scoped>\n",
       "    .dataframe tbody tr th:only-of-type {\n",
       "        vertical-align: middle;\n",
       "    }\n",
       "\n",
       "    .dataframe tbody tr th {\n",
       "        vertical-align: top;\n",
       "    }\n",
       "\n",
       "    .dataframe thead th {\n",
       "        text-align: right;\n",
       "    }\n",
       "</style>\n",
       "<table border=\"1\" class=\"dataframe\">\n",
       "  <thead>\n",
       "    <tr style=\"text-align: right;\">\n",
       "      <th></th>\n",
       "      <th>open</th>\n",
       "      <th>close</th>\n",
       "      <th>open_predicted</th>\n",
       "      <th>close_predicted</th>\n",
       "    </tr>\n",
       "    <tr>\n",
       "      <th>date</th>\n",
       "      <th></th>\n",
       "      <th></th>\n",
       "      <th></th>\n",
       "      <th></th>\n",
       "    </tr>\n",
       "  </thead>\n",
       "  <tbody>\n",
       "    <tr>\n",
       "      <th>2021-06-09</th>\n",
       "      <td>2499.50</td>\n",
       "      <td>2491.40</td>\n",
       "      <td>2311.954834</td>\n",
       "      <td>2317.365234</td>\n",
       "    </tr>\n",
       "    <tr>\n",
       "      <th>2021-06-10</th>\n",
       "      <td>2494.01</td>\n",
       "      <td>2521.60</td>\n",
       "      <td>2305.802490</td>\n",
       "      <td>2314.993652</td>\n",
       "    </tr>\n",
       "    <tr>\n",
       "      <th>2021-06-11</th>\n",
       "      <td>2524.92</td>\n",
       "      <td>2513.93</td>\n",
       "      <td>2316.094482</td>\n",
       "      <td>2324.075439</td>\n",
       "    </tr>\n",
       "  </tbody>\n",
       "</table>\n",
       "</div>"
      ],
      "text/plain": [
       "               open    close  open_predicted  close_predicted\n",
       "date                                                         \n",
       "2021-06-09  2499.50  2491.40     2311.954834      2317.365234\n",
       "2021-06-10  2494.01  2521.60     2305.802490      2314.993652\n",
       "2021-06-11  2524.92  2513.93     2316.094482      2324.075439"
      ]
     },
     "execution_count": 119,
     "metadata": {},
     "output_type": "execute_result"
    }
   ],
   "source": [
    "# Creating a dataframe and adding 3 days to existing index \n",
    "\n",
    "df_merge['2021-06-09':'2021-06-12']\n"
   ]
  },
  {
   "cell_type": "code",
   "execution_count": 104,
   "id": "822c8327",
   "metadata": {},
   "outputs": [],
   "source": [
    "# creating a DataFrame and filling values of open and close column\n",
    "upcoming_prediction = pd.DataFrame(columns=['open','close'],index=df_merge.index)\n",
    "upcoming_prediction.index=pd.to_datetime(upcoming_prediction.index)"
   ]
  },
  {
   "cell_type": "code",
   "execution_count": 105,
   "id": "a83d6c62",
   "metadata": {},
   "outputs": [
    {
     "name": "stdout",
     "output_type": "stream",
     "text": [
      "1/1 [==============================] - 0s 27ms/step\n",
      "1/1 [==============================] - 0s 20ms/step\n",
      "1/1 [==============================] - 0s 22ms/step\n",
      "1/1 [==============================] - 0s 24ms/step\n",
      "1/1 [==============================] - 0s 22ms/step\n",
      "1/1 [==============================] - 0s 20ms/step\n",
      "1/1 [==============================] - 0s 23ms/step\n",
      "1/1 [==============================] - 0s 21ms/step\n",
      "1/1 [==============================] - 0s 21ms/step\n",
      "1/1 [==============================] - 0s 21ms/step\n"
     ]
    }
   ],
   "source": [
    "curr_seq = test_seq[-1:]\n",
    "\n",
    "for i in range(-10,0):\n",
    "  up_pred = model.predict(curr_seq)\n",
    "  upcoming_prediction.iloc[i] = up_pred\n",
    "  curr_seq = np.append(curr_seq[0][1:],up_pred,axis=0)\n",
    "  curr_seq = curr_seq.reshape(test_seq[-1:].shape)"
   ]
  },
  {
   "cell_type": "code",
   "execution_count": 106,
   "id": "216420a2",
   "metadata": {},
   "outputs": [
    {
     "data": {
      "image/png": "[encoded data removed]",
      "text/plain": [
       "<Figure size 720x360 with 1 Axes>"
      ]
     },
     "metadata": {
      "needs_background": "light"
     },
     "output_type": "display_data"
    }
   ],
   "source": [
    "# inversing Normalization/scaling\n",
    "upcoming_prediction[['open','close']] = MMS.inverse_transform(upcoming_prediction[['open','close']])\n",
    "# plotting Upcoming Open price on date index\n",
    "fig,ax=plt.subplots(figsize=(10,5))\n",
    "ax.plot(df_merge.loc['2021-04-01':,'open'],label='Current Open Price')\n",
    "ax.plot(upcoming_prediction.loc['2021-04-01':,'open'],label='Upcoming Open Price')\n",
    "plt.setp(ax.xaxis.get_majorticklabels(), rotation=45)\n",
    "ax.set_xlabel('Date',size=15)\n",
    "ax.set_ylabel('Stock Price',size=15)\n",
    "ax.set_title('Upcoming Open price prediction',size=15)\n",
    "ax.legend()\n",
    "fig.show()"
   ]
  },
  {
   "cell_type": "code",
   "execution_count": 107,
   "id": "08cb9857",
   "metadata": {},
   "outputs": [
    {
     "data": {
      "image/png": "[encoded data removed]",
      "text/plain": [
       "<Figure size 720x360 with 1 Axes>"
      ]
     },
     "metadata": {
      "needs_background": "light"
     },
     "output_type": "display_data"
    }
   ],
   "source": [
    "# plotting Upcoming Close price on date index\n",
    "fig,ax=plt.subplots(figsize=(10,5))\n",
    "ax.plot(df_merge.loc['2021-04-01':,'close'],label='Current close Price')\n",
    "ax.plot(upcoming_prediction.loc['2021-04-01':,'close'],label='Upcoming close Price')\n",
    "plt.setp(ax.xaxis.get_majorticklabels(), rotation=45)\n",
    "ax.set_xlabel('Date',size=15)\n",
    "ax.set_ylabel('Stock Price',size=15)\n",
    "ax.set_title('Upcoming close price prediction',size=15)\n",
    "ax.legend()\n",
    "fig.show()"
   ]
  },
  {
   "cell_type": "code",
   "execution_count": 108,
   "id": "90ef8e5b",
   "metadata": {},
   "outputs": [
    {
     "data": {
      "text/html": [
       "<img src=\"https://img.freepik.com/premium-vector/happy-thanksgiving-day-thank-you-typographic-greeting-design-template_649214-1012.jpg?w=740\" width=\"400\" height=\"400\"/>"
      ],
      "text/plain": [
       "<IPython.core.display.Image object>"
      ]
     },
     "execution_count": 108,
     "metadata": {},
     "output_type": "execute_result"
    }
   ],
   "source": [
    "from IPython.display import Image\n",
    "from IPython.core.display import HTML\n",
    "Image(url=\"https://img.freepik.com/premium-vector/happy-thanksgiving-day-thank-you-typographic-greeting-design-template_649214-1012.jpg?w=740\",height=400,width=400)"
   ]
  },
  {
   "cell_type": "code",
   "execution_count": null,
   "id": "28ecff83",
   "metadata": {},
   "outputs": [],
   "source": []
  }
 ],
 "metadata": {
  "kernelspec": {
   "display_name": "Python 3 (ipykernel)",
   "language": "python",
   "name": "python3"
  },
  "language_info": {
   "codemirror_mode": {
    "name": "ipython",
    "version": 3
   },
   "file_extension": ".py",
   "mimetype": "text/x-python",
   "name": "python",
   "nbconvert_exporter": "python",
   "pygments_lexer": "ipython3",
   "version": "3.10.6"
  }
 },
 "nbformat": 4,
 "nbformat_minor": 5
}
